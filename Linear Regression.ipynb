{
 "cells": [
  {
   "cell_type": "code",
   "execution_count": 495,
   "metadata": {
    "collapsed": false
   },
   "outputs": [],
   "source": [
    "from sklearn.linear_model import LinearRegression\n",
    "from sklearn.model_selection import KFold\n",
    "from sklearn.metrics import r2_score"
   ]
  },
  {
   "cell_type": "code",
   "execution_count": 496,
   "metadata": {
    "collapsed": true
   },
   "outputs": [],
   "source": [
    "import numpy as np # linear algebra\n",
    "import pandas as pd # data processing, CSV file I/O (e.g. pd.read_csv)\n",
    "import matplotlib.pyplot as plt\n",
    "import seaborn as sns\n",
    "from sklearn import preprocessing\n",
    "import xgboost as xgb\n",
    "color = sns.color_palette()\n",
    "from patsy import dmatrices\n",
    "%matplotlib inline"
   ]
  },
  {
   "cell_type": "code",
   "execution_count": 497,
   "metadata": {
    "collapsed": false
   },
   "outputs": [],
   "source": [
    "train = pd.read_csv(\"~/Desktop/Benz/train.csv\", index_col =0)\n",
    "test = pd.read_csv(\"~/Desktop/Benz/test.csv\", index_col=0)\n",
    "df = train.append(test)\n",
    "train_X = train.drop('y', axis=1)"
   ]
  },
  {
   "cell_type": "markdown",
   "metadata": {},
   "source": [
    "A couple of linear-based regression models have been tested and Lasso shows the highest R-Squared.\n",
    "\n",
    "| Algorithms | R-squared   |\n",
    "|------|-------------|\n",
    "| OLS  | 0.506|\n",
    "| Duplicated Predictors Removal  | 0.528|\n",
    "| PCA  | 0.533|\n",
    "| PSL  | 0.310|\n",
    "| Lasso  | 0.546|\n",
    "|PCA+Lasso | 0.533|"
   ]
  },
  {
   "cell_type": "markdown",
   "metadata": {},
   "source": [
    "# Data processing"
   ]
  },
  {
   "cell_type": "markdown",
   "metadata": {},
   "source": [
    "Numeric predictors"
   ]
  },
  {
   "cell_type": "code",
   "execution_count": 498,
   "metadata": {
    "collapsed": false
   },
   "outputs": [],
   "source": [
    "num_predictors = train_X.dtypes[train_X.dtypes!='object']\n",
    "num_predictors = num_predictors.index.values"
   ]
  },
  {
   "cell_type": "markdown",
   "metadata": {},
   "source": [
    "Features that have only one level of values bring no information for regression and should be removed"
   ]
  },
  {
   "cell_type": "code",
   "execution_count": 499,
   "metadata": {
    "collapsed": false
   },
   "outputs": [],
   "source": [
    "zero_predictors = []\n",
    "for i in num_predictors:\n",
    "    if len(train_X[i].unique()) !=2:\n",
    "        zero_predictors.append(i)"
   ]
  },
  {
   "cell_type": "code",
   "execution_count": 500,
   "metadata": {
    "collapsed": false
   },
   "outputs": [
    {
     "data": {
      "text/plain": [
       "['X11',\n",
       " 'X93',\n",
       " 'X107',\n",
       " 'X233',\n",
       " 'X235',\n",
       " 'X268',\n",
       " 'X289',\n",
       " 'X290',\n",
       " 'X293',\n",
       " 'X297',\n",
       " 'X330',\n",
       " 'X347']"
      ]
     },
     "execution_count": 500,
     "metadata": {},
     "output_type": "execute_result"
    }
   ],
   "source": [
    "zero_predictors"
   ]
  },
  {
   "cell_type": "code",
   "execution_count": 501,
   "metadata": {
    "collapsed": false
   },
   "outputs": [],
   "source": [
    "df = df.drop(zero_predictors, axis = 1)"
   ]
  },
  {
   "cell_type": "code",
   "execution_count": 502,
   "metadata": {
    "collapsed": true
   },
   "outputs": [],
   "source": [
    "num_predictors = [x for x in num_predictors if x not in zero_predictors]"
   ]
  },
  {
   "cell_type": "markdown",
   "metadata": {},
   "source": [
    "## Remove near-zero & co-related predictors"
   ]
  },
  {
   "cell_type": "markdown",
   "metadata": {},
   "source": [
    "A rule of thumb for detecting near-zero variance predictors is:\n",
    "1. The fraction of unique values over the sample size is low (say 10 %).\n",
    "2. The ratio of the frequency of the most prevalent value to the frequency of the second most prevalent value is large (say around 20).”\n",
    "\n",
    "Excerpt From: Max Kuhn and Kjell Johnson. “Applied Predictive Modeling.” iBooks. \n",
    "\n",
    "So I removed those predictors whose percentage of 1 are above 0.9 or below 0.1."
   ]
  },
  {
   "cell_type": "code",
   "execution_count": 266,
   "metadata": {
    "collapsed": false
   },
   "outputs": [],
   "source": [
    "one_percentage = df[num_predictors].T.sum(axis=1)/len(train)\n",
    "near_zero_predictors = one_percentage[(one_percentage >=0.9) | (one_percentage <= 0.1)].index.values"
   ]
  },
  {
   "cell_type": "code",
   "execution_count": 267,
   "metadata": {
    "collapsed": false
   },
   "outputs": [],
   "source": [
    "df = df.drop(near_zero_predictors, axis = 1)"
   ]
  },
  {
   "cell_type": "code",
   "execution_count": 268,
   "metadata": {
    "collapsed": false
   },
   "outputs": [],
   "source": [
    "num_predictors = [x for x in num_predictors if x not in near_zero_predictors]"
   ]
  },
  {
   "cell_type": "markdown",
   "metadata": {},
   "source": [
    "Missing values: no missing values in this dataset. Good!"
   ]
  },
  {
   "cell_type": "code",
   "execution_count": 269,
   "metadata": {
    "collapsed": false
   },
   "outputs": [
    {
     "data": {
      "text/plain": [
       "Index([u'y'], dtype='object')"
      ]
     },
     "execution_count": 269,
     "metadata": {},
     "output_type": "execute_result"
    }
   ],
   "source": [
    "df.columns[df.isnull().sum()!=0]"
   ]
  },
  {
   "cell_type": "markdown",
   "metadata": {},
   "source": [
    "Correlation between predictors. It can be seen that numerous pairs of predictors are highly positively or negatively related. "
   ]
  },
  {
   "cell_type": "markdown",
   "metadata": {},
   "source": [
    "An algorithm to remove correlated predictors:\n",
    "\n",
    "1.\n",
    "Calculate the correlation matrix of the predictors.\n",
    " \n",
    "2.\n",
    "Determine the two predictors associated with the largest absolute pairwise correlation (call them predictors A and B).\n",
    " \n",
    "3.\n",
    "Determine the average correlation between A and the other variables. Do the same for predictor B.\n",
    " \n",
    "4.\n",
    "If A has a larger average correlation, remove it; otherwise, remove predictor B.\n",
    " \n",
    "5.\n",
    "Repeat Steps 2–4 until no absolute correlations are above the threshold”\n",
    "\n",
    "Excerpt From: Max Kuhn and Kjell Johnson. “Applied Predictive Modeling.” iBooks. "
   ]
  },
  {
   "cell_type": "markdown",
   "metadata": {},
   "source": [
    "In this dataset, I set the 0.7 as the threshold. After running the algorithm, the number of columns has been deducted to 47."
   ]
  },
  {
   "cell_type": "code",
   "execution_count": 270,
   "metadata": {
    "collapsed": false
   },
   "outputs": [],
   "source": [
    "def find_max(df_c):\n",
    "    max_ = 0\n",
    "    max_i = 0\n",
    "    max_j = 0\n",
    "    for i in range(len(df_c.columns)):\n",
    "        for j in range(i+1, len(df_c.columns)):\n",
    "            if abs(df_c.iloc[i, j]) > max_:\n",
    "                max_i = i\n",
    "                max_j = j\n",
    "                max_ = abs(df_c.iloc[i, j])\n",
    "    return max_i, max_j, max_"
   ]
  },
  {
   "cell_type": "code",
   "execution_count": 271,
   "metadata": {
    "collapsed": false
   },
   "outputs": [],
   "source": [
    "corr_df = df[num_predictors]\n",
    "corr = corr_df.corr()\n",
    "drop_list = []\n",
    "while True:\n",
    "    c1, c2, cor = find_max(corr)\n",
    "    if cor < 0.7:\n",
    "        break\n",
    "    else:\n",
    "        if corr.iloc[c1].mean() > corr.iloc[c2].mean():\n",
    "            corr_df = corr_df.drop(corr.columns[c1], axis=1)\n",
    "            drop_list.append(corr.columns[c1])\n",
    "        else:\n",
    "            corr_df = corr_df.drop(corr.columns[c2], axis=1)\n",
    "            drop_list.append(corr.columns[c2])\n",
    "        corr = corr_df.corr()"
   ]
  },
  {
   "cell_type": "code",
   "execution_count": 272,
   "metadata": {
    "collapsed": false
   },
   "outputs": [],
   "source": [
    "df = df.drop(drop_list, axis =1)"
   ]
  },
  {
   "cell_type": "markdown",
   "metadata": {},
   "source": [
    "## PCA"
   ]
  },
  {
   "cell_type": "code",
   "execution_count": 503,
   "metadata": {
    "collapsed": false
   },
   "outputs": [],
   "source": [
    "from sklearn.decomposition import PCA"
   ]
  },
  {
   "cell_type": "code",
   "execution_count": 504,
   "metadata": {
    "collapsed": false
   },
   "outputs": [],
   "source": [
    "df = pd.get_dummies(df)"
   ]
  },
  {
   "cell_type": "code",
   "execution_count": 505,
   "metadata": {
    "collapsed": false
   },
   "outputs": [
    {
     "data": {
      "text/plain": [
       "PCA(copy=True, iterated_power='auto', n_components=567, random_state=None,\n",
       "  svd_solver='auto', tol=0.0, whiten=False)"
      ]
     },
     "execution_count": 505,
     "metadata": {},
     "output_type": "execute_result"
    }
   ],
   "source": [
    "pca = PCA(n_components=len(df.columns)-1)\n",
    "pca.fit(df.drop('y', axis=1))"
   ]
  },
  {
   "cell_type": "code",
   "execution_count": 325,
   "metadata": {
    "collapsed": false
   },
   "outputs": [
    {
     "data": {
      "text/plain": [
       "<matplotlib.axes._subplots.AxesSubplot at 0x1150320d0>"
      ]
     },
     "execution_count": 325,
     "metadata": {},
     "output_type": "execute_result"
    },
    {
     "data": {
      "image/png": "[encoded data removed]",
      "text/plain": [
       "<matplotlib.figure.Figure at 0x115029390>"
      ]
     },
     "metadata": {},
     "output_type": "display_data"
    }
   ],
   "source": [
    "pd.Series(pca.explained_variance_ratio_).cumsum().plot()"
   ]
  },
  {
   "cell_type": "code",
   "execution_count": 361,
   "metadata": {
    "collapsed": false
   },
   "outputs": [
    {
     "name": "stderr",
     "output_type": "stream",
     "text": [
      "/Users/bruceso/anaconda/lib/python2.7/site-packages/ipykernel/__main__.py:6: SettingWithCopyWarning: \n",
      "A value is trying to be set on a copy of a slice from a DataFrame.\n",
      "Try using .loc[row_indexer,col_indexer] = value instead\n",
      "\n",
      "See the caveats in the documentation: http://pandas.pydata.org/pandas-docs/stable/indexing.html#indexing-view-versus-copy\n"
     ]
    }
   ],
   "source": [
    "scores =[]\n",
    "for i in range(30,250, 2):\n",
    "    pca = PCA(n_components = i)\n",
    "    df_set = pd.DataFrame(pca.fit_transform(df.drop('y', axis=1)))\n",
    "    train_set = df_set[:4209]\n",
    "    train_set['y'] = train['y'].reset_index()['y']\n",
    "    #test_set = df_set[4209:]\n",
    "    scores.append(test(train_set))"
   ]
  },
  {
   "cell_type": "markdown",
   "metadata": {},
   "source": [
    "Choosing different numbers of principal components, seems the best to generate a high validation and keeps the model simple."
   ]
  },
  {
   "cell_type": "code",
   "execution_count": 363,
   "metadata": {
    "collapsed": false
   },
   "outputs": [
    {
     "data": {
      "image/png": "[encoded data removed]",
      "text/plain": [
       "<matplotlib.figure.Figure at 0x11b4eb410>"
      ]
     },
     "metadata": {},
     "output_type": "display_data"
    }
   ],
   "source": [
    "plt.figure(figsize=(8,6))\n",
    "plt.scatter(range(30,250,2), scores)\n",
    "plt.xlabel('index', fontsize=12)\n",
    "plt.ylabel('y', fontsize=12)\n",
    "plt.show()"
   ]
  },
  {
   "cell_type": "code",
   "execution_count": 506,
   "metadata": {
    "collapsed": false
   },
   "outputs": [],
   "source": [
    "#Submit PCA\n",
    "pca = PCA(n_components = 175)\n",
    "df_set = pd.DataFrame(pca.fit_transform(df.drop('y', axis=1)))"
   ]
  },
  {
   "cell_type": "code",
   "execution_count": 378,
   "metadata": {
    "collapsed": false
   },
   "outputs": [],
   "source": [
    "submit(df_set, train.y)"
   ]
  },
  {
   "cell_type": "markdown",
   "metadata": {},
   "source": [
    "## PLS"
   ]
  },
  {
   "cell_type": "code",
   "execution_count": 379,
   "metadata": {
    "collapsed": true
   },
   "outputs": [],
   "source": [
    "from sklearn.cross_decomposition import PLSRegression"
   ]
  },
  {
   "cell_type": "code",
   "execution_count": 414,
   "metadata": {
    "collapsed": true
   },
   "outputs": [],
   "source": [
    "x = pd.get_dummies(df[df['y'].notnull()])\n",
    "x = x[x['y']<130]"
   ]
  },
  {
   "cell_type": "code",
   "execution_count": 438,
   "metadata": {
    "collapsed": false
   },
   "outputs": [
    {
     "name": "stderr",
     "output_type": "stream",
     "text": [
      "/Users/bruceso/anaconda/lib/python2.7/site-packages/sklearn/cross_decomposition/pls_.py:316: RuntimeWarning: invalid value encountered in divide\n",
      "  y_scores = np.dot(Yk, y_weights) / y_ss\n"
     ]
    }
   ],
   "source": [
    "scores=[]\n",
    "for i in range(20, 250, 2):\n",
    "    pls = PLSRegression(n_components=i)\n",
    "    train_set, train_y = pls.fit_transform(X = x.drop('y', axis=1), y=x.y)\n",
    "    X_train, X_test, y_train, y_test = train_test_split(train_set, train_y,\n",
    "                                                        test_size=0.3, random_state=916)\n",
    "    \n",
    "    pls.fit(X_train, y_train)\n",
    "    \n",
    "    preds = pls.predict(X_test)\n",
    "    preds_ = []\n",
    "    for j in range(len(preds)):\n",
    "        preds_.append(preds[j][0])\n",
    "    preds_ = pd.Series(preds_)\n",
    "    preds_[preds_>200]=100\n",
    "    preds_[preds_<-200]=100\n",
    "    \n",
    "    scores.append(r2_score(y_test, preds_))"
   ]
  },
  {
   "cell_type": "code",
   "execution_count": 441,
   "metadata": {
    "collapsed": false
   },
   "outputs": [
    {
     "data": {
      "image/png": "[encoded data removed]",
      "text/plain": [
       "<matplotlib.figure.Figure at 0x116abcd50>"
      ]
     },
     "metadata": {},
     "output_type": "display_data"
    }
   ],
   "source": [
    "plt.figure(figsize=(8,6))\n",
    "plt.scatter(range(20, 250, 2), scores)\n",
    "plt.xlabel('index', fontsize=12)\n",
    "plt.ylabel('y', fontsize=12)\n",
    "plt.show()"
   ]
  },
  {
   "cell_type": "markdown",
   "metadata": {},
   "source": [
    "## Lasso"
   ]
  },
  {
   "cell_type": "code",
   "execution_count": 444,
   "metadata": {
    "collapsed": true
   },
   "outputs": [],
   "source": [
    "from sklearn import linear_model\n",
    "x = pd.get_dummies(df[df['y'].notnull()])\n",
    "x = x[x['y']<130]\n",
    "X_train, X_test, y_train, y_test = train_test_split(x.drop('y', axis=1), x.y,\n",
    "                                                    test_size=0.3, random_state=916)"
   ]
  },
  {
   "cell_type": "code",
   "execution_count": 459,
   "metadata": {
    "collapsed": false
   },
   "outputs": [
    {
     "name": "stderr",
     "output_type": "stream",
     "text": [
      "/Users/bruceso/anaconda/lib/python2.7/site-packages/sklearn/linear_model/coordinate_descent.py:484: ConvergenceWarning: Objective did not converge. You might want to increase the number of iterations. Fitting data with very small alpha may cause precision problems.\n",
      "  ConvergenceWarning)\n"
     ]
    }
   ],
   "source": [
    "scores = []\n",
    "l = np.arange(0.001, 0.007, 0.001)\n",
    "for i in l:\n",
    "    clf = linear_model.Lasso(alpha=i, normalize = True)\n",
    "    clf.fit(X_train, y_train)\n",
    "    preds = pd.Series(clf.predict(X_test))\n",
    "    scores.append(r2_score(y_test, preds))"
   ]
  },
  {
   "cell_type": "code",
   "execution_count": 463,
   "metadata": {
    "collapsed": false
   },
   "outputs": [
    {
     "data": {
      "image/png": "[encoded data removed]",
      "text/plain": [
       "<matplotlib.figure.Figure at 0x126e41bd0>"
      ]
     },
     "metadata": {},
     "output_type": "display_data"
    }
   ],
   "source": [
    "plt.figure(figsize=(8,6))\n",
    "plt.scatter(l, scores)\n",
    "plt.xlabel('index', fontsize=12)\n",
    "plt.ylabel('y', fontsize=12)\n",
    "plt.show()"
   ]
  },
  {
   "cell_type": "code",
   "execution_count": 476,
   "metadata": {
    "collapsed": false
   },
   "outputs": [],
   "source": [
    "df = pd.get_dummies(df)\n",
    "t1 = df[df.y.notnull()]\n",
    "t2 = df[df.y.isnull()]"
   ]
  },
  {
   "cell_type": "code",
   "execution_count": 478,
   "metadata": {
    "collapsed": false
   },
   "outputs": [],
   "source": [
    "clf = linear_model.Lasso(alpha=0.002, normalize = True)\n",
    "clf.fit(t1.drop('y', axis=1), t1.y)\n",
    "preds = pd.Series(clf.predict(t2.drop('y', axis=1)))"
   ]
  },
  {
   "cell_type": "code",
   "execution_count": 482,
   "metadata": {
    "collapsed": true
   },
   "outputs": [],
   "source": [
    "sub = pd.DataFrame()\n",
    "test = pd.read_csv(\"~/Desktop/Benz/test.csv\", index_col=0)\n",
    "sub['ID'] = test.index\n",
    "sub['y'] = preds\n",
    "sub.to_csv(\"~/Desktop/Benz/Benz.csv\", index=False)"
   ]
  },
  {
   "cell_type": "markdown",
   "metadata": {},
   "source": [
    "## Lasso + PCA"
   ]
  },
  {
   "cell_type": "code",
   "execution_count": 512,
   "metadata": {
    "collapsed": true
   },
   "outputs": [],
   "source": [
    "from sklearn import linear_model\n",
    "X_train, X_test, y_train, y_test = train_test_split(df_set[:4209], train.y,\n",
    "                                                    test_size=0.3, random_state=916)"
   ]
  },
  {
   "cell_type": "code",
   "execution_count": 517,
   "metadata": {
    "collapsed": false
   },
   "outputs": [],
   "source": [
    "scores = []\n",
    "l = np.arange(0.001, 0.01, 0.0005)\n",
    "for i in l:\n",
    "    clf = linear_model.Lasso(alpha=i, normalize = True)\n",
    "    clf.fit(X_train, y_train)\n",
    "    preds = pd.Series(clf.predict(X_test))\n",
    "    scores.append(r2_score(y_test, preds))"
   ]
  },
  {
   "cell_type": "code",
   "execution_count": 518,
   "metadata": {
    "collapsed": false
   },
   "outputs": [
    {
     "data": {
      "image/png": "[encoded data removed]",
      "text/plain": [
       "<matplotlib.figure.Figure at 0x1269671d0>"
      ]
     },
     "metadata": {},
     "output_type": "display_data"
    }
   ],
   "source": [
    "plt.figure(figsize=(8,6))\n",
    "plt.scatter(l, scores)\n",
    "plt.xlabel('index', fontsize=12)\n",
    "plt.ylabel('y', fontsize=12)\n",
    "plt.show()"
   ]
  },
  {
   "cell_type": "code",
   "execution_count": 521,
   "metadata": {
    "collapsed": false
   },
   "outputs": [],
   "source": [
    "clf = linear_model.Lasso(alpha=0.002, normalize = True)\n",
    "clf.fit(df_set[:4209], train.y)\n",
    "preds = pd.Series(clf.predict(df_set[4209:]))"
   ]
  },
  {
   "cell_type": "code",
   "execution_count": 522,
   "metadata": {
    "collapsed": true
   },
   "outputs": [],
   "source": [
    "test = pd.read_csv(\"~/Desktop/Benz/test.csv\", index_col=0)\n",
    "sub['ID'] = test.index\n",
    "sub['y'] = preds\n",
    "sub.to_csv(\"~/Desktop/Benz/Benz.csv\", index=False)"
   ]
  },
  {
   "cell_type": "markdown",
   "metadata": {
    "collapsed": true
   },
   "source": [
    "## Commonly used functions"
   ]
  },
  {
   "cell_type": "code",
   "execution_count": 343,
   "metadata": {
    "collapsed": false
   },
   "outputs": [],
   "source": [
    "from sklearn.model_selection import train_test_split\n",
    "def test(df):\n",
    "    x = df\n",
    "    x = x[x['y']<130]\n",
    "    X_train, X_test, y_train, y_test = train_test_split(x.drop('y', axis=1), x['y'], test_size=0.3, random_state=916)\n",
    "    lr = LinearRegression()\n",
    "    lr.fit(X_train, y_train)\n",
    "    preds = pd.Series(lr.predict(X_test))\n",
    "    preds[preds>200]=100\n",
    "    preds[preds<-200]=100\n",
    "    return r2_score(y_test, preds)"
   ]
  },
  {
   "cell_type": "code",
   "execution_count": 307,
   "metadata": {
    "collapsed": true
   },
   "outputs": [],
   "source": [
    "def cv_test(df):\n",
    "    #CV\n",
    "    kf = KFold(n_splits=10, random_state=10, shuffle=True)\n",
    "    lr = LinearRegression()\n",
    "    scores = []\n",
    "    for train_index, test_index in kf.split(x):\n",
    "        train_X = x.drop('y', axis=1).iloc[train_index]\n",
    "        train_y = train.iloc[train_index]['y']\n",
    "        test_X = x.drop('y', axis=1).iloc[test_index]\n",
    "        test_y = train.iloc[test_index]['y']\n",
    "        lr.fit(train_X, train_y)\n",
    "        preds = lr.predict(test_X)\n",
    "        preds[preds>200]=100\n",
    "        preds[preds<-200]=100\n",
    "        scores.append(r2_score(test_y, preds))\n",
    "    print scores"
   ]
  },
  {
   "cell_type": "code",
   "execution_count": 308,
   "metadata": {
    "collapsed": false
   },
   "outputs": [
    {
     "name": "stdout",
     "output_type": "stream",
     "text": [
      "0.641256742584\n",
      "[-0.088804075668576843, -0.064815466642451858, -0.082348343012990766, -0.056973611609113739, -0.028640298747840243, -0.11340716840307286, -0.033040488453762729, -0.048203962798018196, -0.086273464190953941, -0.054782864659577823]\n"
     ]
    }
   ],
   "source": [
    "test(df)\n",
    "cv_test(df)"
   ]
  },
  {
   "cell_type": "code",
   "execution_count": 275,
   "metadata": {
    "collapsed": false
   },
   "outputs": [
    {
     "data": {
      "image/png": "[encoded data removed]",
      "text/plain": [
       "<matplotlib.figure.Figure at 0x11a4c8750>"
      ]
     },
     "metadata": {},
     "output_type": "display_data"
    }
   ],
   "source": [
    "plt.figure(figsize=(8,6))\n",
    "plt.scatter(range(len(preds)), y_test.reset_index()['y'] - preds)\n",
    "plt.xlabel('index', fontsize=12)\n",
    "plt.ylabel('y', fontsize=12)\n",
    "plt.show()"
   ]
  },
  {
   "cell_type": "code",
   "execution_count": 377,
   "metadata": {
    "collapsed": false
   },
   "outputs": [],
   "source": [
    "def submit(df, y):\n",
    "    df_set = pd.get_dummies(df)\n",
    "    train_set = df_set[:4209]\n",
    "    test_set = df_set[4209:]\n",
    "\n",
    "    lr.fit(train_set, y)\n",
    "    preds = pd.Series(lr.predict(test_set))\n",
    "    preds[preds>200]=100\n",
    "    preds[preds<-200]=100\n",
    "    sub = pd.DataFrame()\n",
    "    test = pd.read_csv(\"~/Desktop/Benz/test.csv\", index_col=0)\n",
    "    sub['ID'] = test.index\n",
    "    sub['y'] = preds\n",
    "    sub.to_csv(\"~/Desktop/Benz/Benz.csv\", index=False)"
   ]
  },
  {
   "cell_type": "code",
   "execution_count": 491,
   "metadata": {
    "collapsed": false
   },
   "outputs": [],
   "source": [
    "df = pd.get_dummies(df)"
   ]
  },
  {
   "cell_type": "code",
   "execution_count": 494,
   "metadata": {
    "collapsed": false
   },
   "outputs": [],
   "source": [
    "submit(df.drop('y', axis=1), df[df.y.notnull()].y)"
   ]
  }
 ],
 "metadata": {
  "kernelspec": {
   "display_name": "Python 2",
   "language": "python",
   "name": "python2"
  },
  "language_info": {
   "codemirror_mode": {
    "name": "ipython",
    "version": 2
   },
   "file_extension": ".py",
   "mimetype": "text/x-python",
   "name": "python",
   "nbconvert_exporter": "python",
   "pygments_lexer": "ipython2",
   "version": "2.7.13"
  }
 },
 "nbformat": 4,
 "nbformat_minor": 2
}
